{
 "cells": [
  {
   "cell_type": "markdown",
   "id": "7f3f457d-64d4-4e95-8641-2a265cba6b5b",
   "metadata": {
    "tags": []
   },
   "source": [
    "### import"
   ]
  },
  {
   "cell_type": "code",
   "execution_count": 20,
   "id": "b79cf0ea-8cab-4913-a20a-2dc635068898",
   "metadata": {},
   "outputs": [],
   "source": [
    "import os\n",
    "# import extract_class\n",
    "# import clang_parser\n",
    "# import opensource_codellm\n",
    "import argparse\n",
    "%run extract_class.py\n",
    "%run clang_parser.py\n",
    "%run opensource_codellm.py\n",
    "import extract_class\n",
    "import clang_parser\n",
    "import opensource_codellm"
   ]
  },
  {
   "cell_type": "markdown",
   "id": "e161c2a6-f796-4c5a-97c1-fb491170c90b",
   "metadata": {
    "tags": []
   },
   "source": [
    "### CodeGenerator class"
   ]
  },
  {
   "cell_type": "code",
   "execution_count": 21,
   "id": "a952f037-5e33-4ce9-9af0-39eb07e912e8",
   "metadata": {},
   "outputs": [],
   "source": [
    "class CodeGenerator:\n",
    "    def __init__(self, proj_dir, output_dir):\n",
    "        self.proj_dir = proj_dir\n",
    "        self.output_dir = output_dir\n",
    "        self.create_output_dir()\n",
    "\n",
    "    def create_output_dir(self):\n",
    "        if not os.path.exists(self.output_dir):\n",
    "            os.makedirs(self.output_dir)\n",
    "\n",
    "    def write_data(self, content, save_path):\n",
    "        with open(save_path, 'w', encoding='utf-8') as file:\n",
    "            file.write(content)\n",
    "\n",
    "    def output_destination(self,new_dir):\n",
    "        output_fname = self.proj_dir.split(\"/\")[-1]\n",
    "        return os.path.join(new_dir, f\"parsed_{output_fname}.txt\")\n",
    "\n",
    "    def generate_binding(self, user_choice, class_definition):\n",
    "        generated_promt = opensource_codellm.promt_generation(class_definition)\n",
    "        if user_choice == 1:\n",
    "            print(\"Selected : SCB NCAT LLM server\")\n",
    "            axle_llms = { 1: 'Phind/Phind-CodeLlama-34B-v2',\n",
    "                          2: 'WizardLM/WizardCoder-Python-34B-V1.0',\n",
    "                          3: 'togethercomputer/CodeLlama-34b'}\n",
    "            # Provide user options to select\n",
    "            print(\"Available options:\")\n",
    "            for key, value in axle_llms.items():\n",
    "                print(f\"{key}: {value}\")\n",
    "\n",
    "            # Get user input\n",
    "            # selected_option = int(input(\"Select an option  \"))\n",
    "            selected_option = 2\n",
    "            # Check if the selected option is valid\n",
    "            if selected_option in axle_llms:\n",
    "                selected_LLM_model = axle_llms[selected_option]\n",
    "                print(f\"Selected Model: {selected_LLM_model}\")\n",
    "            else:\n",
    "                print(\"Invalid option. Please select a valid option.\")\n",
    "            if  selected_option == 1:\n",
    "                model = phindllm\n",
    "            elif selected_option == 2:\n",
    "                model = wizardllm\n",
    "            return opensource_codellm.phind_LLM(selected_LLM_model, generated_promt, model)\n",
    "        elif user_choice == 2:\n",
    "            print(\"Code generation from together.ai API\")\n",
    "            return opensource_codellm.together_api(generated_promt)\n",
    "        else:\n",
    "            print(\"Invalid option. Please select a valid option (1 or 2).\")\n",
    "            return None, None\n",
    "\n",
    "    def run(self):\n",
    "        new_dir = os.path.join(self.output_dir, self.proj_dir.split('/')[-1])\n",
    "        if not os.path.exists(new_dir):\n",
    "            os.makedirs(new_dir)\n",
    "\n",
    "        output_dest = self.output_destination(new_dir)\n",
    "        class_definition, selected_class = extract_class.extract_class_main(self.proj_dir, output_dest)\n",
    "        self.write_data(class_definition, os.path.join(new_dir, f\"{self.proj_dir.split('/')[-1]}_{selected_class}_class.cpp\"))\n",
    "\n",
    "        print(\"Select an option:\")\n",
    "        print(\"1. Generate code from SCB NCAT LLM server (Internal server)\")\n",
    "        print(\"2. Generate code from together.ai API\")\n",
    "        \n",
    "        #user_choice = int(input(\"Enter the number of your choice: \"))\n",
    "        # generated_binding, execution_time = self.generate_binding(user_choice, class_definition)\n",
    "        user_choice = 1\n",
    "\n",
    "        print(\"By default - Chosing together.ai API server\")\n",
    "        generated_binding, execution_time = self.generate_binding(user_choice, class_definition)\n",
    "        if generated_binding and execution_time:\n",
    "            print(f\" Model code generation time: {execution_time}\")\n",
    "            self.write_data(generated_binding, os.path.join(new_dir, f\"GenAi_{selected_class}_binding.cpp\"))\n"
   ]
  },
  {
   "cell_type": "markdown",
   "id": "01b1ae29-d52e-416d-af2a-44682031d184",
   "metadata": {},
   "source": [
    "### main fucntion"
   ]
  },
  {
   "cell_type": "code",
   "execution_count": 23,
   "id": "bc4aff94-6e1f-48e3-86b2-57da3e181950",
   "metadata": {},
   "outputs": [
    {
     "ename": "AttributeError",
     "evalue": "module 'opensource_codellm' has no attribute 'load_model_checkpoints'",
     "output_type": "error",
     "traceback": [
      "\u001b[0;31m---------------------------------------------------------------------------\u001b[0m",
      "\u001b[0;31mAttributeError\u001b[0m                            Traceback (most recent call last)",
      "Cell \u001b[0;32mIn[23], line 2\u001b[0m\n\u001b[1;32m      1\u001b[0m \u001b[38;5;28;01mif\u001b[39;00m \u001b[38;5;18m__name__\u001b[39m \u001b[38;5;241m==\u001b[39m \u001b[38;5;124m\"\u001b[39m\u001b[38;5;124m__main__\u001b[39m\u001b[38;5;124m\"\u001b[39m:\n\u001b[0;32m----> 2\u001b[0m     phindllm, wizardllm \u001b[38;5;241m=\u001b[39m \u001b[43mopensource_codellm\u001b[49m\u001b[38;5;241;43m.\u001b[39;49m\u001b[43mload_model_checkpoints\u001b[49m()\n\u001b[1;32m      3\u001b[0m     \u001b[38;5;66;03m# parser = argparse.ArgumentParser(description='Generate bindings.')\u001b[39;00m\n\u001b[1;32m      4\u001b[0m     \u001b[38;5;66;03m# parser.add_argument('--proj_dir', type=str, required=True, help='Project directory')\u001b[39;00m\n\u001b[1;32m      5\u001b[0m     \u001b[38;5;66;03m# parser.add_argument('--output_dir', type=str, required=True, help='Output directory')\u001b[39;00m\n\u001b[1;32m      6\u001b[0m     \u001b[38;5;66;03m# #parser.add_argument('--class_name', type=str, required=True, help='Output directory')\u001b[39;00m\n\u001b[1;32m      7\u001b[0m     \u001b[38;5;66;03m# args = parser.parse_args()\u001b[39;00m\n\u001b[1;32m      8\u001b[0m     \u001b[38;5;66;03m# generator = CodeGenerator(args.proj_dir, args.output_dir)\u001b[39;00m\n\u001b[1;32m      9\u001b[0m     proj_dir \u001b[38;5;241m=\u001b[39m \u001b[38;5;124m\"\u001b[39m\u001b[38;5;124mfilepattern\u001b[39m\u001b[38;5;124m\"\u001b[39m\n",
      "\u001b[0;31mAttributeError\u001b[0m: module 'opensource_codellm' has no attribute 'load_model_checkpoints'"
     ]
    }
   ],
   "source": [
    "if __name__ == \"__main__\":\n",
    "    phindllm, wizardllm = opensource_codellm.load_model_checkpoints()\n",
    "    # parser = argparse.ArgumentParser(description='Generate bindings.')\n",
    "    # parser.add_argument('--proj_dir', type=str, required=True, help='Project directory')\n",
    "    # parser.add_argument('--output_dir', type=str, required=True, help='Output directory')\n",
    "    # #parser.add_argument('--class_name', type=str, required=True, help='Output directory')\n",
    "    # args = parser.parse_args()\n",
    "    # generator = CodeGenerator(args.proj_dir, args.output_dir)\n",
    "    proj_dir = \"filepattern\"\n",
    "    output_dir = 'output_dir'\n",
    "    generator = CodeGenerator(proj_dir, output_dir)\n",
    "    generator.run()\n"
   ]
  },
  {
   "cell_type": "code",
   "execution_count": null,
   "id": "fdfc8d54-4889-4af2-9d3b-5ce466dfe1da",
   "metadata": {},
   "outputs": [],
   "source": []
  },
  {
   "cell_type": "markdown",
   "id": "067c4f6a",
   "metadata": {
    "tags": []
   },
   "source": [
    "### import"
   ]
  },
  {
   "cell_type": "code",
   "execution_count": 20,
   "id": "ba8c53ae",
   "metadata": {},
   "outputs": [],
   "source": [
    "import os\n",
    "# import extract_class\n",
    "# import clang_parser\n",
    "# import opensource_codellm\n",
    "import argparse\n",
    "%run extract_class.py\n",
    "%run clang_parser.py\n",
    "%run opensource_codellm.py\n",
    "import extract_class\n",
    "import clang_parser\n",
    "import opensource_codellm"
   ]
  },
  {
   "cell_type": "markdown",
   "id": "1f8a3603",
   "metadata": {
    "tags": []
   },
   "source": [
    "### CodeGenerator class"
   ]
  },
  {
   "cell_type": "code",
   "execution_count": 21,
   "id": "d04c796c",
   "metadata": {},
   "outputs": [],
   "source": [
    "class CodeGenerator:\n",
    "    def __init__(self, proj_dir, output_dir):\n",
    "        self.proj_dir = proj_dir\n",
    "        self.output_dir = output_dir\n",
    "        self.create_output_dir()\n",
    "\n",
    "    def create_output_dir(self):\n",
    "        if not os.path.exists(self.output_dir):\n",
    "            os.makedirs(self.output_dir)\n",
    "\n",
    "    def write_data(self, content, save_path):\n",
    "        with open(save_path, 'w', encoding='utf-8') as file:\n",
    "            file.write(content)\n",
    "\n",
    "    def output_destination(self,new_dir):\n",
    "        output_fname = self.proj_dir.split(\"/\")[-1]\n",
    "        return os.path.join(new_dir, f\"parsed_{output_fname}.txt\")\n",
    "\n",
    "    def generate_binding(self, user_choice, class_definition):\n",
    "        generated_promt = opensource_codellm.promt_generation(class_definition)\n",
    "        if user_choice == 1:\n",
    "            print(\"Selected : SCB NCAT LLM server\")\n",
    "            axle_llms = { 1: 'Phind/Phind-CodeLlama-34B-v2',\n",
    "                          2: 'WizardLM/WizardCoder-Python-34B-V1.0',\n",
    "                          3: 'togethercomputer/CodeLlama-34b'}\n",
    "            # Provide user options to select\n",
    "            print(\"Available options:\")\n",
    "            for key, value in axle_llms.items():\n",
    "                print(f\"{key}: {value}\")\n",
    "\n",
    "            # Get user input\n",
    "            # selected_option = int(input(\"Select an option  \"))\n",
    "            selected_option = 2\n",
    "            # Check if the selected option is valid\n",
    "            if selected_option in axle_llms:\n",
    "                selected_LLM_model = axle_llms[selected_option]\n",
    "                print(f\"Selected Model: {selected_LLM_model}\")\n",
    "            else:\n",
    "                print(\"Invalid option. Please select a valid option.\")\n",
    "            if  selected_option == 1:\n",
    "                model = phindllm\n",
    "            elif selected_option == 2:\n",
    "                model = wizardllm\n",
    "            return opensource_codellm.phind_LLM(selected_LLM_model, generated_promt, model)\n",
    "        elif user_choice == 2:\n",
    "            print(\"Code generation from together.ai API\")\n",
    "            return opensource_codellm.together_api(generated_promt)\n",
    "        else:\n",
    "            print(\"Invalid option. Please select a valid option (1 or 2).\")\n",
    "            return None, None\n",
    "\n",
    "    def run(self):\n",
    "        new_dir = os.path.join(self.output_dir, self.proj_dir.split('/')[-1])\n",
    "        if not os.path.exists(new_dir):\n",
    "            os.makedirs(new_dir)\n",
    "\n",
    "        output_dest = self.output_destination(new_dir)\n",
    "        class_definition, selected_class = extract_class.extract_class_main(self.proj_dir, output_dest)\n",
    "        self.write_data(class_definition, os.path.join(new_dir, f\"{self.proj_dir.split('/')[-1]}_{selected_class}_class.cpp\"))\n",
    "\n",
    "        print(\"Select an option:\")\n",
    "        print(\"1. Generate code from SCB NCAT LLM server (Internal server)\")\n",
    "        print(\"2. Generate code from together.ai API\")\n",
    "        \n",
    "        #user_choice = int(input(\"Enter the number of your choice: \"))\n",
    "        # generated_binding, execution_time = self.generate_binding(user_choice, class_definition)\n",
    "        user_choice = 1\n",
    "\n",
    "        print(\"By default - Chosing together.ai API server\")\n",
    "        generated_binding, execution_time = self.generate_binding(user_choice, class_definition)\n",
    "        if generated_binding and execution_time:\n",
    "            print(f\" Model code generation time: {execution_time}\")\n",
    "            self.write_data(generated_binding, os.path.join(new_dir, f\"GenAi_{selected_class}_binding.cpp\"))\n"
   ]
  },
  {
   "cell_type": "markdown",
   "id": "f0591010",
   "metadata": {},
   "source": [
    "### main fucntion"
   ]
  },
  {
   "cell_type": "code",
   "execution_count": 23,
   "id": "41354dcd",
   "metadata": {},
   "outputs": [
    {
     "ename": "AttributeError",
     "evalue": "module 'opensource_codellm' has no attribute 'load_model_checkpoints'",
     "output_type": "error",
     "traceback": [
      "\u001b[0;31m---------------------------------------------------------------------------\u001b[0m",
      "\u001b[0;31mAttributeError\u001b[0m                            Traceback (most recent call last)",
      "Cell \u001b[0;32mIn[23], line 2\u001b[0m\n\u001b[1;32m      1\u001b[0m \u001b[38;5;28;01mif\u001b[39;00m \u001b[38;5;18m__name__\u001b[39m \u001b[38;5;241m==\u001b[39m \u001b[38;5;124m\"\u001b[39m\u001b[38;5;124m__main__\u001b[39m\u001b[38;5;124m\"\u001b[39m:\n\u001b[0;32m----> 2\u001b[0m     phindllm, wizardllm \u001b[38;5;241m=\u001b[39m \u001b[43mopensource_codellm\u001b[49m\u001b[38;5;241;43m.\u001b[39;49m\u001b[43mload_model_checkpoints\u001b[49m()\n\u001b[1;32m      3\u001b[0m     \u001b[38;5;66;03m# parser = argparse.ArgumentParser(description='Generate bindings.')\u001b[39;00m\n\u001b[1;32m      4\u001b[0m     \u001b[38;5;66;03m# parser.add_argument('--proj_dir', type=str, required=True, help='Project directory')\u001b[39;00m\n\u001b[1;32m      5\u001b[0m     \u001b[38;5;66;03m# parser.add_argument('--output_dir', type=str, required=True, help='Output directory')\u001b[39;00m\n\u001b[1;32m      6\u001b[0m     \u001b[38;5;66;03m# #parser.add_argument('--class_name', type=str, required=True, help='Output directory')\u001b[39;00m\n\u001b[1;32m      7\u001b[0m     \u001b[38;5;66;03m# args = parser.parse_args()\u001b[39;00m\n\u001b[1;32m      8\u001b[0m     \u001b[38;5;66;03m# generator = CodeGenerator(args.proj_dir, args.output_dir)\u001b[39;00m\n\u001b[1;32m      9\u001b[0m     proj_dir \u001b[38;5;241m=\u001b[39m \u001b[38;5;124m\"\u001b[39m\u001b[38;5;124mfilepattern\u001b[39m\u001b[38;5;124m\"\u001b[39m\n",
      "\u001b[0;31mAttributeError\u001b[0m: module 'opensource_codellm' has no attribute 'load_model_checkpoints'"
     ]
    }
   ],
   "source": [
    "if __name__ == \"__main__\":\n",
    "    phindllm, wizardllm = opensource_codellm.load_model_checkpoints()\n",
    "    # parser = argparse.ArgumentParser(description='Generate bindings.')\n",
    "    # parser.add_argument('--proj_dir', type=str, required=True, help='Project directory')\n",
    "    # parser.add_argument('--output_dir', type=str, required=True, help='Output directory')\n",
    "    # #parser.add_argument('--class_name', type=str, required=True, help='Output directory')\n",
    "    # args = parser.parse_args()\n",
    "    # generator = CodeGenerator(args.proj_dir, args.output_dir)\n",
    "    proj_dir = \"filepattern\"\n",
    "    output_dir = 'output_dir'\n",
    "    generator = CodeGenerator(proj_dir, output_dir)\n",
    "    generator.run()\n"
   ]
  },
  {
   "cell_type": "code",
   "execution_count": null,
   "id": "a18f3c19",
   "metadata": {},
   "outputs": [],
   "source": []
  }
 ],
 "metadata": {
  "kernelspec": {
   "display_name": "Python 3 (ipykernel)",
   "language": "python",
   "name": "python3"
  },
  "language_info": {
   "codemirror_mode": {
    "name": "ipython",
    "version": 3
   },
   "file_extension": ".py",
   "mimetype": "text/x-python",
   "name": "python",
   "nbconvert_exporter": "python",
   "pygments_lexer": "ipython3",
   "version": "3.9.18"
  }
 },
 "nbformat": 4,
 "nbformat_minor": 5
}
